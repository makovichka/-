{
  "nbformat": 4,
  "nbformat_minor": 0,
  "metadata": {
    "colab": {
      "provenance": []
    },
    "kernelspec": {
      "name": "python3",
      "display_name": "Python 3"
    },
    "language_info": {
      "name": "python"
    }
  },
  "cells": [
    {
      "cell_type": "code",
      "execution_count": null,
      "metadata": {
        "id": "Koc9ACGZksHj"
      },
      "outputs": [],
      "source": [
        "class point:\n",
        "    def __init__(self, x: float, y: float, z: float):\n",
        "        self.X = x\n",
        "        self.Y = y\n",
        "        self.Z = z\n",
        "\n",
        "class machine_status:\n",
        "    PARKING = \"parking\"\n",
        "    MINES = \"mines\"\n",
        "    REPAIR = \"repair\"\n",
        "\n",
        "class machine:\n",
        "    def __init__(self, machine_id: str, position_now: point, status_now: str):\n",
        "        self.id = machine_id\n",
        "        self.position_now = position_now\n",
        "        self.status_now = status_now\n",
        "\n",
        "    def where_to_move(self, position: point):\n",
        "        self.position_now = position\n",
        "\n",
        "    def new_status(self, status: str):\n",
        "        self.status_now = status\n",
        "\n",
        "class crepe:\n",
        "    def __init__(self, crepe_type: str, position_now: Point, condition: float):\n",
        "        self.type = crepe_type\n",
        "        self.position_now = position_now\n",
        "        self.condition = condition\n",
        "\n",
        "class crepe_type:\n",
        "    TRAPEZOIDAL = \"trapezoidal\"\n",
        "    ARCH = \"arch\"\n",
        "\n",
        "class map_machine(Machine):\n",
        "    def mapping(self):\n",
        "        pass\n",
        "\n",
        "class drill_machine(Machine):\n",
        "    def drill(self, where: point):\n",
        "        pass\n",
        "\n",
        "class inspect_machine(Machine):\n",
        "    def inspect(self, crepe: \"crepe\") -> float:\n",
        "        return crepe.condition\n",
        "\n",
        "    def take_photo(self) -> Image:\n",
        "        pass\n",
        "\n",
        "class controller:\n",
        "    def __init__(self):\n",
        "        self.machines: List[Machine] = []\n",
        "\n",
        "    def assign_position(self, machine: Machine, position: point):\n",
        "        machine.where_to_move(position)\n",
        "\n",
        "    def assign_repair(self, machine: Machine):\n",
        "        machine.new_status(machine_status.REPAIR)\n",
        "\n",
        "    def get_position(self, machine: Machine) -> point:\n",
        "        return machine.position_now\n"
      ]
    }
  ]
}